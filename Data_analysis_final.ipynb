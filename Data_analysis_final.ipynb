{
 "cells": [
  {
   "cell_type": "code",
   "execution_count": 77,
   "metadata": {},
   "outputs": [],
   "source": [
    "import pandas as pd\n",
    "import numpy as np\n",
    "import os\n",
    "import matplotlib.pyplot as plt\n",
    "import seaborn as sns\n",
    "\n",
    "from scipy.stats import zscore"
   ]
  },
  {
   "cell_type": "markdown",
   "metadata": {},
   "source": [
    "## data loading"
   ]
  },
  {
   "cell_type": "code",
   "execution_count": 78,
   "metadata": {},
   "outputs": [],
   "source": [
    "path_train = os.path.join(\"data_set\",\"train.csv\")\n",
    "df_train = pd.read_csv(path_train)\n",
    "\n",
    "path_test = os.path.join(\"data_set\",\"test.csv\")\n",
    "df_test = pd.read_csv(path_test)\n"
   ]
  },
  {
   "cell_type": "code",
   "execution_count": 79,
   "metadata": {},
   "outputs": [
    {
     "name": "stdout",
     "output_type": "stream",
     "text": [
      "<class 'pandas.core.frame.DataFrame'>\n",
      "RangeIndex: 1460 entries, 0 to 1459\n",
      "Data columns (total 81 columns):\n",
      " #   Column         Non-Null Count  Dtype  \n",
      "---  ------         --------------  -----  \n",
      " 0   Id             1460 non-null   int64  \n",
      " 1   MSSubClass     1460 non-null   int64  \n",
      " 2   MSZoning       1460 non-null   object \n",
      " 3   LotFrontage    1201 non-null   float64\n",
      " 4   LotArea        1460 non-null   int64  \n",
      " 5   Street         1460 non-null   object \n",
      " 6   Alley          91 non-null     object \n",
      " 7   LotShape       1460 non-null   object \n",
      " 8   LandContour    1460 non-null   object \n",
      " 9   Utilities      1460 non-null   object \n",
      " 10  LotConfig      1460 non-null   object \n",
      " 11  LandSlope      1460 non-null   object \n",
      " 12  Neighborhood   1460 non-null   object \n",
      " 13  Condition1     1460 non-null   object \n",
      " 14  Condition2     1460 non-null   object \n",
      " 15  BldgType       1460 non-null   object \n",
      " 16  HouseStyle     1460 non-null   object \n",
      " 17  OverallQual    1460 non-null   int64  \n",
      " 18  OverallCond    1460 non-null   int64  \n",
      " 19  YearBuilt      1460 non-null   int64  \n",
      " 20  YearRemodAdd   1460 non-null   int64  \n",
      " 21  RoofStyle      1460 non-null   object \n",
      " 22  RoofMatl       1460 non-null   object \n",
      " 23  Exterior1st    1460 non-null   object \n",
      " 24  Exterior2nd    1460 non-null   object \n",
      " 25  MasVnrType     588 non-null    object \n",
      " 26  MasVnrArea     1452 non-null   float64\n",
      " 27  ExterQual      1460 non-null   object \n",
      " 28  ExterCond      1460 non-null   object \n",
      " 29  Foundation     1460 non-null   object \n",
      " 30  BsmtQual       1423 non-null   object \n",
      " 31  BsmtCond       1423 non-null   object \n",
      " 32  BsmtExposure   1422 non-null   object \n",
      " 33  BsmtFinType1   1423 non-null   object \n",
      " 34  BsmtFinSF1     1460 non-null   int64  \n",
      " 35  BsmtFinType2   1422 non-null   object \n",
      " 36  BsmtFinSF2     1460 non-null   int64  \n",
      " 37  BsmtUnfSF      1460 non-null   int64  \n",
      " 38  TotalBsmtSF    1460 non-null   int64  \n",
      " 39  Heating        1460 non-null   object \n",
      " 40  HeatingQC      1460 non-null   object \n",
      " 41  CentralAir     1460 non-null   object \n",
      " 42  Electrical     1459 non-null   object \n",
      " 43  1stFlrSF       1460 non-null   int64  \n",
      " 44  2ndFlrSF       1460 non-null   int64  \n",
      " 45  LowQualFinSF   1460 non-null   int64  \n",
      " 46  GrLivArea      1460 non-null   int64  \n",
      " 47  BsmtFullBath   1460 non-null   int64  \n",
      " 48  BsmtHalfBath   1460 non-null   int64  \n",
      " 49  FullBath       1460 non-null   int64  \n",
      " 50  HalfBath       1460 non-null   int64  \n",
      " 51  BedroomAbvGr   1460 non-null   int64  \n",
      " 52  KitchenAbvGr   1460 non-null   int64  \n",
      " 53  KitchenQual    1460 non-null   object \n",
      " 54  TotRmsAbvGrd   1460 non-null   int64  \n",
      " 55  Functional     1460 non-null   object \n",
      " 56  Fireplaces     1460 non-null   int64  \n",
      " 57  FireplaceQu    770 non-null    object \n",
      " 58  GarageType     1379 non-null   object \n",
      " 59  GarageYrBlt    1379 non-null   float64\n",
      " 60  GarageFinish   1379 non-null   object \n",
      " 61  GarageCars     1460 non-null   int64  \n",
      " 62  GarageArea     1460 non-null   int64  \n",
      " 63  GarageQual     1379 non-null   object \n",
      " 64  GarageCond     1379 non-null   object \n",
      " 65  PavedDrive     1460 non-null   object \n",
      " 66  WoodDeckSF     1460 non-null   int64  \n",
      " 67  OpenPorchSF    1460 non-null   int64  \n",
      " 68  EnclosedPorch  1460 non-null   int64  \n",
      " 69  3SsnPorch      1460 non-null   int64  \n",
      " 70  ScreenPorch    1460 non-null   int64  \n",
      " 71  PoolArea       1460 non-null   int64  \n",
      " 72  PoolQC         7 non-null      object \n",
      " 73  Fence          281 non-null    object \n",
      " 74  MiscFeature    54 non-null     object \n",
      " 75  MiscVal        1460 non-null   int64  \n",
      " 76  MoSold         1460 non-null   int64  \n",
      " 77  YrSold         1460 non-null   int64  \n",
      " 78  SaleType       1460 non-null   object \n",
      " 79  SaleCondition  1460 non-null   object \n",
      " 80  SalePrice      1460 non-null   int64  \n",
      "dtypes: float64(3), int64(35), object(43)\n",
      "memory usage: 924.0+ KB\n"
     ]
    }
   ],
   "source": [
    "df_train.info()"
   ]
  },
  {
   "cell_type": "markdown",
   "metadata": {},
   "source": [
    "## Data visualization"
   ]
  },
  {
   "cell_type": "code",
   "execution_count": 80,
   "metadata": {},
   "outputs": [
    {
     "data": {
      "text/plain": [
       "<Axes: xlabel='SalePrice', ylabel='Count'>"
      ]
     },
     "execution_count": 80,
     "metadata": {},
     "output_type": "execute_result"
    },
    {
     "data": {
      "image/png": "[encoded data removed]",
      "text/plain": [
       "<Figure size 640x480 with 1 Axes>"
      ]
     },
     "metadata": {},
     "output_type": "display_data"
    }
   ],
   "source": [
    "sns.histplot(data = df_train['SalePrice'],kde = True)"
   ]
  },
  {
   "cell_type": "markdown",
   "metadata": {},
   "source": [
    "Respone data is skewed to the right. Log transformation is used to address skweness."
   ]
  },
  {
   "cell_type": "code",
   "execution_count": 81,
   "metadata": {},
   "outputs": [
    {
     "data": {
      "text/plain": [
       "<Axes: xlabel='LogSalePrice', ylabel='Count'>"
      ]
     },
     "execution_count": 81,
     "metadata": {},
     "output_type": "execute_result"
    },
    {
     "data": {
      "image/png": "[encoded data removed]",
      "text/plain": [
       "<Figure size 640x480 with 1 Axes>"
      ]
     },
     "metadata": {},
     "output_type": "display_data"
    }
   ],
   "source": [
    "df_train['LogSalePrice'] = np.log(df_train['SalePrice'])\n",
    "sns.histplot(data = df_train['LogSalePrice'],kde = True)"
   ]
  },
  {
   "cell_type": "markdown",
   "metadata": {},
   "source": [
    "## Imputation"
   ]
  },
  {
   "cell_type": "code",
   "execution_count": 82,
   "metadata": {},
   "outputs": [
    {
     "data": {
      "text/plain": [
       "PoolQC          99.520548\n",
       "MiscFeature     96.301370\n",
       "Alley           93.767123\n",
       "Fence           80.753425\n",
       "MasVnrType      59.726027\n",
       "FireplaceQu     47.260274\n",
       "LotFrontage     17.739726\n",
       "GarageQual       5.547945\n",
       "GarageYrBlt      5.547945\n",
       "GarageFinish     5.547945\n",
       "GarageType       5.547945\n",
       "GarageCond       5.547945\n",
       "BsmtExposure     2.602740\n",
       "BsmtFinType2     2.602740\n",
       "BsmtQual         2.534247\n",
       "BsmtFinType1     2.534247\n",
       "BsmtCond         2.534247\n",
       "MasVnrArea       0.547945\n",
       "Electrical       0.068493\n",
       "dtype: float64"
      ]
     },
     "execution_count": 82,
     "metadata": {},
     "output_type": "execute_result"
    }
   ],
   "source": [
    "# how may missing data are here in train data\n",
    "null_count = df_train.isnull().sum().sort_values(ascending=False)\n",
    "(null_count[null_count>0] / 1460) *100 # percentage of null for a feature"
   ]
  },
  {
   "cell_type": "code",
   "execution_count": 83,
   "metadata": {},
   "outputs": [
    {
     "data": {
      "text/plain": [
       "PoolQC          99.726027\n",
       "MiscFeature     96.438356\n",
       "Alley           92.602740\n",
       "Fence           80.068493\n",
       "MasVnrType      61.232877\n",
       "FireplaceQu     50.000000\n",
       "LotFrontage     15.547945\n",
       "GarageYrBlt      5.342466\n",
       "GarageCond       5.342466\n",
       "GarageFinish     5.342466\n",
       "GarageQual       5.342466\n",
       "GarageType       5.205479\n",
       "BsmtCond         3.082192\n",
       "BsmtQual         3.013699\n",
       "BsmtExposure     3.013699\n",
       "BsmtFinType1     2.876712\n",
       "BsmtFinType2     2.876712\n",
       "MasVnrArea       1.027397\n",
       "MSZoning         0.273973\n",
       "BsmtHalfBath     0.136986\n",
       "Utilities        0.136986\n",
       "Functional       0.136986\n",
       "BsmtFullBath     0.136986\n",
       "BsmtFinSF1       0.068493\n",
       "Exterior1st      0.068493\n",
       "TotalBsmtSF      0.068493\n",
       "BsmtUnfSF        0.068493\n",
       "BsmtFinSF2       0.068493\n",
       "SaleType         0.068493\n",
       "KitchenQual      0.068493\n",
       "GarageCars       0.068493\n",
       "GarageArea       0.068493\n",
       "Exterior2nd      0.068493\n",
       "dtype: float64"
      ]
     },
     "execution_count": 83,
     "metadata": {},
     "output_type": "execute_result"
    }
   ],
   "source": [
    "# how may missing data are here in test data\n",
    "null_count = df_test.isnull().sum().sort_values(ascending=False)\n",
    "(null_count[null_count>0] / 1460) *100 # percentage of null for a feature"
   ]
  },
  {
   "cell_type": "markdown",
   "metadata": {},
   "source": [
    "Features with > 60 % null values will be dropped as they are not informative. Features with <30 % null values will be imputed. For in between values, I will decide dropping according to feature importances.\n",
    "'PoolQC,MiscFeature,Alley,Fence' are dropped.\n",
    "I will check feature importances of 'MasVnrType,FireplaceQu'.\n",
    "The rest are kept.\n",
    "Dropping features are considered according to train data only.  "
   ]
  },
  {
   "cell_type": "code",
   "execution_count": 84,
   "metadata": {},
   "outputs": [],
   "source": [
    "# df_train.drop(columns = ['PoolQC','MiscFeature','Alley','Fence'],inplace = True) #drop columns with too many nulls\n",
    "# df_test.drop(columns = ['PoolQC','MiscFeature','Alley','Fence'],inplace = True) "
   ]
  },
  {
   "cell_type": "code",
   "execution_count": 85,
   "metadata": {},
   "outputs": [],
   "source": [
    "# # should i drop 'MasVnrType,FireplaceQu'\n",
    "# fig, axes = plt.subplots(1, 2,figsize= (6,3))  # 1 row, 2 columns subplot\n",
    "# df_train['MasVnrType'] = df_train['MasVnrType'].fillna('None') # null values mean there is no MasVnr\n",
    "# df_train['FireplaceQu'] = df_train['FireplaceQu'].fillna('NA') #null values mean there is no Masonry veneer\n",
    "# sns.boxplot(x='MasVnrType', y='LogSalePrice', data=df_train, ax=axes[0])  # First subplot\n",
    "# sns.boxplot(x='FireplaceQu', y='LogSalePrice', data=df_train, ax=axes[1])  # Second subplot\n",
    "# plt.tight_layout()\n",
    "\n",
    "# df_test['MasVnrType'] = df_test['MasVnrType'].fillna('None') # null values mean there is no MasVnr\n",
    "# df_test['FireplaceQu'] = df_test['FireplaceQu'].fillna('NA') #null values mean there is no Masonry veneer\n"
   ]
  },
  {
   "cell_type": "markdown",
   "metadata": {},
   "source": [
    "Box plots show effects of these two features on LogSalePrice.I will keep this."
   ]
  },
  {
   "cell_type": "markdown",
   "metadata": {},
   "source": [
    "I will do imputation on other features."
   ]
  },
  {
   "cell_type": "code",
   "execution_count": 86,
   "metadata": {},
   "outputs": [],
   "source": [
    "# df_train['MasVnrType'] = df_train['MasVnrType'].fillna('None')\n",
    "# df_train['FireplaceQu'] = df_train['FireplaceQu'].fillna('NA')\n",
    "# df_train[['GarageQual','GarageFinish','GarageType','GarageCond']] = df_train[['GarageQual','GarageFinish','GarageType','GarageCond']].fillna('NA') #no garage\n",
    "df_train['GarageYrBlt'] = df_train['GarageYrBlt'].fillna(1890) # min year is 1900, since no garage should have lower house price, it is imputed with year 1890     \n",
    "# df_train[['BsmtExposure','BsmtFinType2','BsmtQual','BsmtFinType1','BsmtCond']] = df_train[['BsmtExposure','BsmtFinType2','BsmtQual','BsmtFinType1','BsmtCond']].fillna('NA') #no basement\n",
    "# df_train['LotFrontage'] = df_train['LotFrontage'].fillna(0)\n",
    "\n",
    "# df_test['MasVnrType'] = df_test['MasVnrType'].fillna('None')\n",
    "# df_test['FireplaceQu'] = df_test['FireplaceQu'].fillna('NA')\n",
    "# df_test[['GarageQual','GarageFinish','GarageType','GarageCond']] = df_test[['GarageQual','GarageFinish','GarageType','GarageCond']].fillna('NA') #no garage\n",
    "df_test['GarageYrBlt'] = df_test ['GarageYrBlt'].fillna(1890) # min year is 1900, since no garage should have lower house price, it is imputed with year 1890     \n",
    "# df_test[['BsmtExposure','BsmtFinType2','BsmtQual','BsmtFinType1','BsmtCond']] = df_test[['BsmtExposure','BsmtFinType2','BsmtQual','BsmtFinType1','BsmtCond']].fillna('NA') #no basement\n",
    "# df_test['LotFrontage'] = df_test['LotFrontage'].fillna(0)\n",
    "\n"
   ]
  },
  {
   "cell_type": "markdown",
   "metadata": {},
   "source": [
    "Howere there are some data inconsistencies happening in for those records with no garge. "
   ]
  },
  {
   "cell_type": "code",
   "execution_count": 87,
   "metadata": {},
   "outputs": [],
   "source": [
    "# print(df_train[['BsmtExposure','BsmtCond']][(df_train['BsmtExposure'] == 'NA') & (df_train['BsmtCond'] != 'NA') ])\n",
    "\n",
    "# print(df_test[['BsmtExposure','BsmtCond']][(df_test['BsmtExposure'] == 'NA') & (df_test['BsmtCond'] != 'NA') ])"
   ]
  },
  {
   "cell_type": "markdown",
   "metadata": {},
   "source": [
    "Even though there is no basement. Basement Consition is assigned. Delete this record."
   ]
  },
  {
   "cell_type": "code",
   "execution_count": 88,
   "metadata": {},
   "outputs": [],
   "source": [
    "df_train.drop(948,inplace = True)"
   ]
  },
  {
   "cell_type": "code",
   "execution_count": 89,
   "metadata": {},
   "outputs": [],
   "source": [
    "# df_test.loc[[27,888], 'BsmtCond'] = 'NA'"
   ]
  },
  {
   "cell_type": "markdown",
   "metadata": {},
   "source": [
    "'MasVnrType' should be related to 'MasVnrArea'. But why number of null values are not the same for these two features."
   ]
  },
  {
   "cell_type": "code",
   "execution_count": 90,
   "metadata": {},
   "outputs": [],
   "source": [
    "# df_train[['MasVnrType','MasVnrArea']][df_train['MasVnrType'] == 'None']"
   ]
  },
  {
   "cell_type": "code",
   "execution_count": 91,
   "metadata": {},
   "outputs": [],
   "source": [
    "# df_train[['MasVnrType','MasVnrArea']][df_train['MasVnrArea'].isna()]\n"
   ]
  },
  {
   "cell_type": "markdown",
   "metadata": {},
   "source": [
    "So For houses with no Masonry veneer ,some data are missing for MasVnrArea feature. I must impute with 0 as all missing values in MasVnrArea."
   ]
  },
  {
   "cell_type": "code",
   "execution_count": 92,
   "metadata": {},
   "outputs": [],
   "source": [
    "# df_train['MasVnrArea'] = df_train['MasVnrArea'].fillna(0) \n",
    "\n",
    "# df_test['MasVnrArea'] = df_test['MasVnrArea'].fillna(0) \n"
   ]
  },
  {
   "cell_type": "markdown",
   "metadata": {},
   "source": [
    "For electrical system, every house should have one. I should impute with mode."
   ]
  },
  {
   "cell_type": "code",
   "execution_count": 93,
   "metadata": {},
   "outputs": [],
   "source": [
    "df_train['Electrical'] = df_train['Electrical'].fillna(df_train['Electrical'].mode()[0])\n",
    "\n",
    "df_test['Electrical'] = df_test['Electrical'].fillna(df_train['Electrical'].mode()[0]) \n",
    " "
   ]
  },
  {
   "cell_type": "markdown",
   "metadata": {},
   "source": [
    "## Outliers "
   ]
  },
  {
   "cell_type": "code",
   "execution_count": 94,
   "metadata": {},
   "outputs": [],
   "source": [
    "# #remove outlies in response columns using z score\n",
    "# df_train['LogSalePrice_z'] = zscore(df_train['LogSalePrice'])\n",
    "# df_train = df_train[~((df_train['LogSalePrice_z'] <= -3) | (df_train['LogSalePrice_z'] >= 3))] #filter records that are out of +/- 3sigma"
   ]
  },
  {
   "cell_type": "code",
   "execution_count": 95,
   "metadata": {},
   "outputs": [],
   "source": [
    "# df_train.drop(columns=['LogSalePrice_z'],inplace = True)"
   ]
  },
  {
   "cell_type": "markdown",
   "metadata": {},
   "source": [
    "Since i want to do capping insted of removing outlier in the features to reserve as more information as possible,I will do feature enginnering first."
   ]
  },
  {
   "cell_type": "code",
   "execution_count": 96,
   "metadata": {},
   "outputs": [],
   "source": [
    "#feature engineering\n",
    "def new_features(df):    \n",
    "    df['House_age'] = df['YrSold'] - df['YearBuilt']\n",
    "    df['Remod_age'] = df['YrSold'] - df['YearRemodAdd']\n",
    "    df['BsmtFin'] = df['BsmtFinSF1']+ df['BsmtFinSF2']\n",
    "    df['FlrSF'] = df['1stFlrSF'] +df['2ndFlrSF'] \n",
    "    df['Bath'] = 0.5*df['BsmtHalfBath']+ df['BsmtFullBath']+0.5* df['HalfBath']+df['FullBath']\n",
    "    df['AbvGrd'] = df['KitchenAbvGr']+df['BedroomAbvGr']\n",
    "    df['Garage_age'] = df['YrSold'] - df['GarageYrBlt']\n",
    "    df['OpenSF'] = df['WoodDeckSF'] + df['OpenPorchSF']+ df['EnclosedPorch']+ df['3SsnPorch']+df['ScreenPorch']\n",
    "\n",
    "    #drop above features to decrease correlation between features\n",
    "    \n",
    "    df['bedroom/totalRoomAboveGrade'] = df['BedroomAbvGr'] / df['TotRmsAbvGrd']\n",
    "    # df.drop(columns = ['YrSold','YearBuilt','YearRemodAdd','BsmtFinSF1','BsmtFinSF2','1stFlrSF','2ndFlrSF','BsmtHalfBath','BsmtFullBath','HalfBath','FullBath',\n",
    "    #     'KitchenAbvGr','BedroomAbvGr','GarageYrBlt','EnclosedPorch','3SsnPorch','ScreenPorch'], inplace = True )\n",
    "    return None\n",
    "# ['WoodDeckSF','OpenPorchSF']"
   ]
  },
  {
   "cell_type": "code",
   "execution_count": 97,
   "metadata": {},
   "outputs": [],
   "source": [
    "#add new features\n",
    "new_features(df_train)\n",
    "new_features(df_test)"
   ]
  },
  {
   "cell_type": "code",
   "execution_count": 98,
   "metadata": {},
   "outputs": [],
   "source": [
    "df_train=df_train[~(df_train['LotFrontage']>300)]\n",
    "df_train=df_train[~(df_train['SalePrice']>700000)]\n",
    "df_train=df_train[~(df_train['LotArea']>100000)]\n",
    "df_train=df_train[~(df_train['MasVnrArea']>1250)]\n",
    "df_train=df_train[~(df_train['BsmtFin']>4000)]\n",
    "df_train=df_train[~(df_train['TotalBsmtSF']>3000)]\n",
    "df_train=df_train[~(df_train['GarageArea']>1200)]"
   ]
  },
  {
   "cell_type": "code",
   "execution_count": 99,
   "metadata": {},
   "outputs": [],
   "source": [
    "# #capping features to handle outliers\n",
    "# numeric_columns = df_train.select_dtypes(include = ['int64','float64']).columns\n",
    "# for col in numeric_columns:\n",
    "#     lower_bound = df_train[col].quantile(0.02)  # 5th percentile\n",
    "#     upper_bound = df_train[col].quantile(0.98)  # 95th percentile\n",
    "#     if col not in ['SalePrice','LogSalePrice']:\n",
    "#         df_train[col] = df_train[col].clip(lower_bound, upper_bound)\n",
    "#         df_test[col] = df_test[col].clip(lower_bound, upper_bound)\n",
    "#     else :\n",
    "#         df_train[col] =df_train[col] # no SalePrice column in test data\n",
    "        "
   ]
  },
  {
   "cell_type": "markdown",
   "metadata": {},
   "source": [
    "## Correlation "
   ]
  },
  {
   "cell_type": "code",
   "execution_count": 100,
   "metadata": {},
   "outputs": [],
   "source": [
    "# # checking correlation between numerical features and response\n",
    "# numeric_columns = df_train.select_dtypes(include = ['int64','float64']).columns\n",
    "# fig,axes = plt.subplots(10,4,figsize= (30,90))\n",
    "# corr = df_train.select_dtypes(include = ['int64','float64']).corr()\n",
    "# corr_Price = corr['LogSalePrice']\n",
    "# col = 0\n",
    "# for i in range(10):\n",
    "#     for j in range(4):\n",
    "#         if col < len(numeric_columns):\n",
    "#             col_name = numeric_columns[col]\n",
    "#             axes[i,j].scatter(df_train[col_name],df_train['LogSalePrice'],alpha = 0.7)\n",
    "#             axes[i,j].set_xlabel(col_name,fontsize = 15)\n",
    "#             axes[i,j].set_ylabel('LogSalePrice',fontsize = 15)\n",
    "#             axes[i,j].tick_params(axis='both', labelsize=15),\n",
    "#             axes[i,j].text(0.05, 0.95, f'Corr: {corr_Price[col]:.2f}', \n",
    "#                             transform=axes[i, j].transAxes, fontsize=15,\n",
    "#                             verticalalignment='top', color='red')\n",
    "            \n",
    "#             col += 1\n",
    "#         else:\n",
    "#             axes[i, j].axis('off')"
   ]
  },
  {
   "cell_type": "code",
   "execution_count": 101,
   "metadata": {},
   "outputs": [],
   "source": [
    "# # remove outlers function\n",
    "# def cap_outlers_numeric(df_train,df_test,col,lower,upper):\n",
    "#     lower_bound = df_train[col].quantile(lower)  # lower percentile\n",
    "#     upper_bound = df_train[col].quantile(upper)  # upper percentile\n",
    "#     df_train[col] = df_train[col].clip(lower_bound, upper_bound)\n",
    "#     df_test[col] = df_test[col].clip(lower_bound, upper_bound)\n",
    "#     return df_train,df_test\n"
   ]
  },
  {
   "cell_type": "code",
   "execution_count": 102,
   "metadata": {},
   "outputs": [],
   "source": [
    "# # GrLivArea has the highest correlation.Cleaned this first (original 0.7 --> after 0.73)\n",
    "# df_train = df_train[~((df_train['GrLivArea'] > 4000) & (df_train['LogSalePrice'] < 12.5))]"
   ]
  },
  {
   "cell_type": "code",
   "execution_count": 103,
   "metadata": {},
   "outputs": [],
   "source": [
    "# # Next is GarageArea  (original 0.66 --> after 0.67)\n",
    "# df_train = df_train[~((df_train['GarageArea'] > 1200) & (df_train['LogSalePrice'] < 12.6))]"
   ]
  },
  {
   "cell_type": "code",
   "execution_count": 104,
   "metadata": {},
   "outputs": [],
   "source": [
    "# #I will do capping for LotArea and LotFrontage as these features might be important\n",
    "# df_train,df_test = cap_outlers_numeric(df_train,df_test,'LotArea',0.02,0.98) #(0.26 ---> 0.42 )\n",
    "# df_train,df_test = cap_outlers_numeric(df_train,df_test,'LotFrontage',0.03,0.97) #(0.19  ---> 0.18) #drop"
   ]
  },
  {
   "cell_type": "code",
   "execution_count": 105,
   "metadata": {},
   "outputs": [],
   "source": [
    "# #feature engineering\n",
    "# def new_features(df):    \n",
    "#     df['House_age'] = df['YrSold'] - df['YearBuilt']\n",
    "#     df['Remod_age'] = df['YrSold'] - df['YearRemodAdd']\n",
    "#     df['BsmtFin'] = df['BsmtFinSF1']+ df['BsmtFinSF2']\n",
    "#     df['FlrSF'] = df['1stFlrSF'] +df['2ndFlrSF'] # 'FlrSF' befor 0.62\n",
    "#     df['Bath'] = 0.5*df['BsmtHalfBath']+ df['BsmtFullBath']+0.5* df['HalfBath']+df['FullBath']\n",
    "#     df['AbvGrd'] = df['KitchenAbvGr']+df['BedroomAbvGr']\n",
    "#     df['Garage_age'] = df['YrSold'] - df['GarageYrBlt']\n",
    "#     df['OpenSF'] = df['WoodDeckSF'] + df['OpenPorchSF']+ df['EnclosedPorch']+ df['3SsnPorch']+df['ScreenPorch']\n",
    "# #     df.drop(columns = ['YrSold','YearBuilt','YearRemodAdd','BsmtFinSF1','BsmtFinSF2','1stFlrSF','2ndFlrSF','BsmtHalfBath','BsmtFullBath','HalfBath','FullBath',\n",
    "# #          'KitchenAbvGr','BedroomAbvGr','GarageYrBlt','WoodDeckSF','OpenPorchSF','EnclosedPorch','3SsnPorch','ScreenPorch'], inplace = True )\n",
    "# #     #drop above features to decrease correlation between features\n",
    "    \n",
    "#     df['bedroom/totalRoomAboveGrade'] = df['BedroomAbvGr'] / df['TotRmsAbvGrd']\n",
    "#     return None\n",
    "\n",
    "\n",
    "# def add_new_features(a):\n",
    "#     df = a\n",
    "#     df['BsmtFin'] = df['BsmtFinSF1']+ df['BsmtFinSF2']\n",
    "#     df['House_age'] = df['YrSold'] - df['YearBuilt']\n",
    "#     df['Remod_age'] = df['YrSold'] - df['YearRemodAdd']\n",
    "#     df['FlrSF'] = df['1stFlrSF'] +df['2ndFlrSF'] \n",
    "#     df['Bath'] = df['HalfBath']+df['FullBath']\n",
    "#     df['AbvGrd'] = df['KitchenAbvGr']+df['BedroomAbvGr']\n",
    "#     df['OpenSF'] = df['WoodDeckSF'] + df['OpenPorchSF']+ df['EnclosedPorch']+ df['3SsnPorch']+df['ScreenPorch']\n",
    "#     df['bedroom/totalRoomAboveGrade'] = df['BedroomAbvGr'] / df['TotRmsAbvGrd']"
   ]
  },
  {
   "cell_type": "code",
   "execution_count": 106,
   "metadata": {},
   "outputs": [],
   "source": [
    "# add_new_features(df_train)\n",
    "# add_new_features(df_test)"
   ]
  },
  {
   "cell_type": "code",
   "execution_count": 107,
   "metadata": {},
   "outputs": [],
   "source": [
    "# #for house which is important, remove outliers\n",
    "# df_train = df_train[~( (df_train['LogSalePrice'] < 10.75))]\n",
    "# df_train = df_train[~( (df_train['LogSalePrice'] > 12) & (df_train['House_age'] > 100))]"
   ]
  },
  {
   "cell_type": "code",
   "execution_count": 108,
   "metadata": {},
   "outputs": [
    {
     "data": {
      "text/plain": [
       "Index(['Id', 'MSSubClass', 'LotFrontage', 'LotArea', 'OverallQual',\n",
       "       'OverallCond', 'YearBuilt', 'YearRemodAdd', 'MasVnrArea', 'BsmtFinSF1',\n",
       "       'BsmtFinSF2', 'BsmtUnfSF', 'TotalBsmtSF', '1stFlrSF', '2ndFlrSF',\n",
       "       'LowQualFinSF', 'GrLivArea', 'BsmtFullBath', 'BsmtHalfBath', 'FullBath',\n",
       "       'HalfBath', 'BedroomAbvGr', 'KitchenAbvGr', 'TotRmsAbvGrd',\n",
       "       'Fireplaces', 'GarageYrBlt', 'GarageCars', 'GarageArea', 'WoodDeckSF',\n",
       "       'OpenPorchSF', 'EnclosedPorch', '3SsnPorch', 'ScreenPorch', 'PoolArea',\n",
       "       'MiscVal', 'MoSold', 'YrSold', 'SalePrice', 'LogSalePrice', 'House_age',\n",
       "       'Remod_age', 'BsmtFin', 'FlrSF', 'Bath', 'AbvGrd', 'Garage_age',\n",
       "       'OpenSF', 'bedroom/totalRoomAboveGrade'],\n",
       "      dtype='object')"
      ]
     },
     "execution_count": 108,
     "metadata": {},
     "output_type": "execute_result"
    }
   ],
   "source": [
    "df_train.select_dtypes(exclude='object').columns"
   ]
  },
  {
   "cell_type": "code",
   "execution_count": 109,
   "metadata": {},
   "outputs": [],
   "source": [
    "#Features with continuous numerical\n",
    "numeric_normal = ['Id','LotFrontage','LotArea','MasVnrArea','BsmtUnfSF','TotalBsmtSF','LowQualFinSF','GrLivArea','GarageArea','PoolArea','MiscVal',\n",
    "                  'MoSold','House_age','Remod_age','BsmtFin','FlrSF','Garage_age','OpenSF','LogSalePrice']"
   ]
  },
  {
   "cell_type": "markdown",
   "metadata": {},
   "source": [
    "For features with continuous value. I will drop features with less than 0.3 correlarion score."
   ]
  },
  {
   "cell_type": "code",
   "execution_count": 110,
   "metadata": {},
   "outputs": [],
   "source": [
    "# df_train.drop(columns= ['Id','LowQualFinSF','PoolArea','MiscVal','MoSold'],inplace=True)\n",
    "\n",
    "# df_test.drop(columns= ['Id','LowQualFinSF','PoolArea','MiscVal','MoSold'],inplace=True)\n",
    "\n",
    "# ['LotFrontage','BsmtUnfSF']"
   ]
  },
  {
   "cell_type": "markdown",
   "metadata": {},
   "source": [
    "Features will be divided according to their nature."
   ]
  },
  {
   "cell_type": "code",
   "execution_count": 111,
   "metadata": {},
   "outputs": [],
   "source": [
    "numeric  = df_train.select_dtypes(exclude = object).columns"
   ]
  },
  {
   "cell_type": "code",
   "execution_count": 112,
   "metadata": {},
   "outputs": [],
   "source": [
    "#numeric values but act like ordinal data\n",
    "numeric_odrinal = ['MSSubClass','OverallQual','OverallCond','TotRmsAbvGrd','Fireplaces','GarageCars','Bath','AbvGrd'] \n",
    " "
   ]
  },
  {
   "cell_type": "code",
   "execution_count": 113,
   "metadata": {},
   "outputs": [],
   "source": [
    "#normal numeric values\n",
    "numeric_normal = [i for i in numeric if i not in numeric_odrinal]"
   ]
  },
  {
   "cell_type": "markdown",
   "metadata": {},
   "source": [
    "Visualizing Correlation of numeric_normal features"
   ]
  },
  {
   "cell_type": "code",
   "execution_count": 114,
   "metadata": {},
   "outputs": [],
   "source": [
    "# # checking correlation between numerical features and response\n",
    "# fig,axes = plt.subplots(5,4,figsize= (30,60))\n",
    "# corr = df_train[numeric_normal].corr()\n",
    "# corr_Price = corr['LogSalePrice']\n",
    "# col = 0\n",
    "# for i in range(5):\n",
    "#     for j in range(4):\n",
    "#         if col < len(numeric_normal):\n",
    "#             col_name = numeric_normal[col]\n",
    "#             axes[i,j].scatter(df_train[col_name],df_train['LogSalePrice'],alpha = 0.7)\n",
    "#             axes[i,j].set_xlabel(col_name,fontsize = 15)\n",
    "#             axes[i,j].set_ylabel('LogSalePrice',fontsize = 15)\n",
    "#             axes[i,j].tick_params(axis='both', labelsize=15),\n",
    "#             axes[i,j].text(0.05, 0.95, f'Corr: {corr_Price[col]:.2f}', \n",
    "#                             transform=axes[i, j].transAxes, fontsize=15,\n",
    "#                             verticalalignment='top', color='red')\n",
    "            \n",
    "#             col += 1\n",
    "#         else:\n",
    "#             axes[i, j].axis('off')"
   ]
  },
  {
   "cell_type": "code",
   "execution_count": 115,
   "metadata": {},
   "outputs": [
    {
     "name": "stdout",
     "output_type": "stream",
     "text": [
      "['Id', 'LotFrontage', 'LotArea', 'YearBuilt', 'YearRemodAdd', 'MasVnrArea', 'BsmtFinSF1', 'BsmtFinSF2', 'BsmtUnfSF', 'TotalBsmtSF', '1stFlrSF', '2ndFlrSF', 'LowQualFinSF', 'GrLivArea', 'BsmtFullBath', 'BsmtHalfBath', 'FullBath', 'HalfBath', 'BedroomAbvGr', 'KitchenAbvGr', 'GarageYrBlt', 'GarageArea', 'WoodDeckSF', 'OpenPorchSF', 'EnclosedPorch', '3SsnPorch', 'ScreenPorch', 'PoolArea', 'MiscVal', 'MoSold', 'YrSold', 'SalePrice', 'LogSalePrice', 'House_age', 'Remod_age', 'BsmtFin', 'FlrSF', 'Garage_age', 'OpenSF', 'bedroom/totalRoomAboveGrade']\n"
     ]
    }
   ],
   "source": [
    "print(numeric_normal)"
   ]
  },
  {
   "cell_type": "code",
   "execution_count": 116,
   "metadata": {},
   "outputs": [],
   "source": [
    "# df_train.drop(columns= ['Id','LowQualFinSF','PoolArea','MiscVal','MoSold'],inplace=True) #dropped\n",
    "# df_test.drop(columns= ['Id','LowQualFinSF','PoolArea','MiscVal','MoSold'],inplace=True) #dropped"
   ]
  },
  {
   "cell_type": "code",
   "execution_count": 117,
   "metadata": {},
   "outputs": [],
   "source": [
    "numeric_normal_1 = [i for i in numeric_normal if i not in ['Id','LowQualFinSF','PoolArea','MiscVal','MoSold']]"
   ]
  },
  {
   "cell_type": "code",
   "execution_count": 118,
   "metadata": {},
   "outputs": [],
   "source": [
    "# corr = df_train[numeric_normal_1].corr()\n",
    "# plt.figure(figsize=(25,25))\n",
    "# sns.heatmap(corr,cmap = 'coolwarm', annot = True, fmt='.2f')"
   ]
  },
  {
   "cell_type": "code",
   "execution_count": 119,
   "metadata": {},
   "outputs": [
    {
     "name": "stdout",
     "output_type": "stream",
     "text": [
      "['LotFrontage', 'LotArea', 'YearBuilt', 'YearRemodAdd', 'MasVnrArea', 'BsmtFinSF1', 'BsmtFinSF2', 'BsmtUnfSF', 'TotalBsmtSF', '1stFlrSF', '2ndFlrSF', 'GrLivArea', 'BsmtFullBath', 'BsmtHalfBath', 'FullBath', 'HalfBath', 'BedroomAbvGr', 'KitchenAbvGr', 'GarageYrBlt', 'GarageArea', 'WoodDeckSF', 'OpenPorchSF', 'EnclosedPorch', '3SsnPorch', 'ScreenPorch', 'YrSold', 'SalePrice', 'LogSalePrice', 'House_age', 'Remod_age', 'BsmtFin', 'FlrSF', 'Garage_age', 'OpenSF', 'bedroom/totalRoomAboveGrade']\n"
     ]
    }
   ],
   "source": [
    "print(numeric_normal_1)"
   ]
  },
  {
   "cell_type": "code",
   "execution_count": 120,
   "metadata": {},
   "outputs": [],
   "source": [
    "# dropping very high correlation between features\n",
    "# df_train.drop(columns = ['Garage_age','FlrSF'],inplace = True)\n",
    "# df_test.drop(columns = ['Garage_age','FlrSF'],inplace = True)\n"
   ]
  },
  {
   "cell_type": "code",
   "execution_count": 121,
   "metadata": {},
   "outputs": [],
   "source": [
    "numeric_normal_final = ['LotFrontage', 'LotArea', 'MasVnrArea', 'BsmtUnfSF', 'TotalBsmtSF', 'GrLivArea', 'GarageArea', 'House_age', \n",
    "                        'Remod_age', 'BsmtFin', 'OpenSF', 'LogSalePrice']"
   ]
  },
  {
   "cell_type": "markdown",
   "metadata": {},
   "source": [
    "## numeric ordinal"
   ]
  },
  {
   "cell_type": "code",
   "execution_count": 122,
   "metadata": {},
   "outputs": [],
   "source": [
    "numeric_ordinal = [i for i in df_train.select_dtypes(exclude='object').columns if i not in numeric_normal]"
   ]
  },
  {
   "cell_type": "code",
   "execution_count": 123,
   "metadata": {},
   "outputs": [],
   "source": [
    "# # checking correlation between numerical features and response\n",
    "# fig,axes = plt.subplots(3,3,figsize= (30,30))\n",
    "# col = 0\n",
    "# for i in range(3):\n",
    "#     for j in range(3):\n",
    "#         if col < len(numeric_ordinal):\n",
    "#             col_name = numeric_ordinal[col]\n",
    "#             axes[i,j].scatter(df_train[col_name],df_train['LogSalePrice'],alpha = 0.7)\n",
    "#             axes[i,j].set_xlabel(col_name,fontsize = 15)\n",
    "#             axes[i,j].set_ylabel('LogSalePrice',fontsize = 15)\n",
    "#             axes[i,j].tick_params(axis='both', labelsize=15),\n",
    "#             col += 1\n",
    "#         else:\n",
    "#             axes[i, j].axis('off')"
   ]
  },
  {
   "cell_type": "code",
   "execution_count": 124,
   "metadata": {},
   "outputs": [
    {
     "name": "stdout",
     "output_type": "stream",
     "text": [
      "<class 'pandas.core.frame.DataFrame'>\n",
      "Index: 1441 entries, 0 to 1459\n",
      "Data columns (total 91 columns):\n",
      " #   Column                       Non-Null Count  Dtype  \n",
      "---  ------                       --------------  -----  \n",
      " 0   Id                           1441 non-null   int64  \n",
      " 1   MSSubClass                   1441 non-null   int64  \n",
      " 2   MSZoning                     1441 non-null   object \n",
      " 3   LotFrontage                  1187 non-null   float64\n",
      " 4   LotArea                      1441 non-null   int64  \n",
      " 5   Street                       1441 non-null   object \n",
      " 6   Alley                        90 non-null     object \n",
      " 7   LotShape                     1441 non-null   object \n",
      " 8   LandContour                  1441 non-null   object \n",
      " 9   Utilities                    1441 non-null   object \n",
      " 10  LotConfig                    1441 non-null   object \n",
      " 11  LandSlope                    1441 non-null   object \n",
      " 12  Neighborhood                 1441 non-null   object \n",
      " 13  Condition1                   1441 non-null   object \n",
      " 14  Condition2                   1441 non-null   object \n",
      " 15  BldgType                     1441 non-null   object \n",
      " 16  HouseStyle                   1441 non-null   object \n",
      " 17  OverallQual                  1441 non-null   int64  \n",
      " 18  OverallCond                  1441 non-null   int64  \n",
      " 19  YearBuilt                    1441 non-null   int64  \n",
      " 20  YearRemodAdd                 1441 non-null   int64  \n",
      " 21  RoofStyle                    1441 non-null   object \n",
      " 22  RoofMatl                     1441 non-null   object \n",
      " 23  Exterior1st                  1441 non-null   object \n",
      " 24  Exterior2nd                  1441 non-null   object \n",
      " 25  MasVnrType                   575 non-null    object \n",
      " 26  MasVnrArea                   1433 non-null   float64\n",
      " 27  ExterQual                    1441 non-null   object \n",
      " 28  ExterCond                    1441 non-null   object \n",
      " 29  Foundation                   1441 non-null   object \n",
      " 30  BsmtQual                     1404 non-null   object \n",
      " 31  BsmtCond                     1404 non-null   object \n",
      " 32  BsmtExposure                 1404 non-null   object \n",
      " 33  BsmtFinType1                 1404 non-null   object \n",
      " 34  BsmtFinSF1                   1441 non-null   int64  \n",
      " 35  BsmtFinType2                 1404 non-null   object \n",
      " 36  BsmtFinSF2                   1441 non-null   int64  \n",
      " 37  BsmtUnfSF                    1441 non-null   int64  \n",
      " 38  TotalBsmtSF                  1441 non-null   int64  \n",
      " 39  Heating                      1441 non-null   object \n",
      " 40  HeatingQC                    1441 non-null   object \n",
      " 41  CentralAir                   1441 non-null   object \n",
      " 42  Electrical                   1441 non-null   object \n",
      " 43  1stFlrSF                     1441 non-null   int64  \n",
      " 44  2ndFlrSF                     1441 non-null   int64  \n",
      " 45  LowQualFinSF                 1441 non-null   int64  \n",
      " 46  GrLivArea                    1441 non-null   int64  \n",
      " 47  BsmtFullBath                 1441 non-null   int64  \n",
      " 48  BsmtHalfBath                 1441 non-null   int64  \n",
      " 49  FullBath                     1441 non-null   int64  \n",
      " 50  HalfBath                     1441 non-null   int64  \n",
      " 51  BedroomAbvGr                 1441 non-null   int64  \n",
      " 52  KitchenAbvGr                 1441 non-null   int64  \n",
      " 53  KitchenQual                  1441 non-null   object \n",
      " 54  TotRmsAbvGrd                 1441 non-null   int64  \n",
      " 55  Functional                   1441 non-null   object \n",
      " 56  Fireplaces                   1441 non-null   int64  \n",
      " 57  FireplaceQu                  752 non-null    object \n",
      " 58  GarageType                   1360 non-null   object \n",
      " 59  GarageYrBlt                  1441 non-null   float64\n",
      " 60  GarageFinish                 1360 non-null   object \n",
      " 61  GarageCars                   1441 non-null   int64  \n",
      " 62  GarageArea                   1441 non-null   int64  \n",
      " 63  GarageQual                   1360 non-null   object \n",
      " 64  GarageCond                   1360 non-null   object \n",
      " 65  PavedDrive                   1441 non-null   object \n",
      " 66  WoodDeckSF                   1441 non-null   int64  \n",
      " 67  OpenPorchSF                  1441 non-null   int64  \n",
      " 68  EnclosedPorch                1441 non-null   int64  \n",
      " 69  3SsnPorch                    1441 non-null   int64  \n",
      " 70  ScreenPorch                  1441 non-null   int64  \n",
      " 71  PoolArea                     1441 non-null   int64  \n",
      " 72  PoolQC                       5 non-null      object \n",
      " 73  Fence                        280 non-null    object \n",
      " 74  MiscFeature                  51 non-null     object \n",
      " 75  MiscVal                      1441 non-null   int64  \n",
      " 76  MoSold                       1441 non-null   int64  \n",
      " 77  YrSold                       1441 non-null   int64  \n",
      " 78  SaleType                     1441 non-null   object \n",
      " 79  SaleCondition                1441 non-null   object \n",
      " 80  SalePrice                    1441 non-null   int64  \n",
      " 81  LogSalePrice                 1441 non-null   float64\n",
      " 82  House_age                    1441 non-null   int64  \n",
      " 83  Remod_age                    1441 non-null   int64  \n",
      " 84  BsmtFin                      1441 non-null   int64  \n",
      " 85  FlrSF                        1441 non-null   int64  \n",
      " 86  Bath                         1441 non-null   float64\n",
      " 87  AbvGrd                       1441 non-null   int64  \n",
      " 88  Garage_age                   1441 non-null   float64\n",
      " 89  OpenSF                       1441 non-null   int64  \n",
      " 90  bedroom/totalRoomAboveGrade  1441 non-null   float64\n",
      "dtypes: float64(7), int64(41), object(43)\n",
      "memory usage: 1.0+ MB\n"
     ]
    }
   ],
   "source": [
    "df_train.info()"
   ]
  },
  {
   "cell_type": "code",
   "execution_count": 125,
   "metadata": {},
   "outputs": [],
   "source": [
    "\n",
    "# df_train,df_test = cap_outlers_numeric(df_train,df_test,'OverallQual',0.01,1) \n"
   ]
  },
  {
   "cell_type": "code",
   "execution_count": 126,
   "metadata": {},
   "outputs": [
    {
     "name": "stdout",
     "output_type": "stream",
     "text": [
      "<class 'pandas.core.frame.DataFrame'>\n",
      "Index: 1441 entries, 0 to 1459\n",
      "Data columns (total 91 columns):\n",
      " #   Column                       Non-Null Count  Dtype  \n",
      "---  ------                       --------------  -----  \n",
      " 0   Id                           1441 non-null   int64  \n",
      " 1   MSSubClass                   1441 non-null   int64  \n",
      " 2   MSZoning                     1441 non-null   object \n",
      " 3   LotFrontage                  1187 non-null   float64\n",
      " 4   LotArea                      1441 non-null   int64  \n",
      " 5   Street                       1441 non-null   object \n",
      " 6   Alley                        90 non-null     object \n",
      " 7   LotShape                     1441 non-null   object \n",
      " 8   LandContour                  1441 non-null   object \n",
      " 9   Utilities                    1441 non-null   object \n",
      " 10  LotConfig                    1441 non-null   object \n",
      " 11  LandSlope                    1441 non-null   object \n",
      " 12  Neighborhood                 1441 non-null   object \n",
      " 13  Condition1                   1441 non-null   object \n",
      " 14  Condition2                   1441 non-null   object \n",
      " 15  BldgType                     1441 non-null   object \n",
      " 16  HouseStyle                   1441 non-null   object \n",
      " 17  OverallQual                  1441 non-null   int64  \n",
      " 18  OverallCond                  1441 non-null   int64  \n",
      " 19  YearBuilt                    1441 non-null   int64  \n",
      " 20  YearRemodAdd                 1441 non-null   int64  \n",
      " 21  RoofStyle                    1441 non-null   object \n",
      " 22  RoofMatl                     1441 non-null   object \n",
      " 23  Exterior1st                  1441 non-null   object \n",
      " 24  Exterior2nd                  1441 non-null   object \n",
      " 25  MasVnrType                   575 non-null    object \n",
      " 26  MasVnrArea                   1433 non-null   float64\n",
      " 27  ExterQual                    1441 non-null   object \n",
      " 28  ExterCond                    1441 non-null   object \n",
      " 29  Foundation                   1441 non-null   object \n",
      " 30  BsmtQual                     1404 non-null   object \n",
      " 31  BsmtCond                     1404 non-null   object \n",
      " 32  BsmtExposure                 1404 non-null   object \n",
      " 33  BsmtFinType1                 1404 non-null   object \n",
      " 34  BsmtFinSF1                   1441 non-null   int64  \n",
      " 35  BsmtFinType2                 1404 non-null   object \n",
      " 36  BsmtFinSF2                   1441 non-null   int64  \n",
      " 37  BsmtUnfSF                    1441 non-null   int64  \n",
      " 38  TotalBsmtSF                  1441 non-null   int64  \n",
      " 39  Heating                      1441 non-null   object \n",
      " 40  HeatingQC                    1441 non-null   object \n",
      " 41  CentralAir                   1441 non-null   object \n",
      " 42  Electrical                   1441 non-null   object \n",
      " 43  1stFlrSF                     1441 non-null   int64  \n",
      " 44  2ndFlrSF                     1441 non-null   int64  \n",
      " 45  LowQualFinSF                 1441 non-null   int64  \n",
      " 46  GrLivArea                    1441 non-null   int64  \n",
      " 47  BsmtFullBath                 1441 non-null   int64  \n",
      " 48  BsmtHalfBath                 1441 non-null   int64  \n",
      " 49  FullBath                     1441 non-null   int64  \n",
      " 50  HalfBath                     1441 non-null   int64  \n",
      " 51  BedroomAbvGr                 1441 non-null   int64  \n",
      " 52  KitchenAbvGr                 1441 non-null   int64  \n",
      " 53  KitchenQual                  1441 non-null   object \n",
      " 54  TotRmsAbvGrd                 1441 non-null   int64  \n",
      " 55  Functional                   1441 non-null   object \n",
      " 56  Fireplaces                   1441 non-null   int64  \n",
      " 57  FireplaceQu                  752 non-null    object \n",
      " 58  GarageType                   1360 non-null   object \n",
      " 59  GarageYrBlt                  1441 non-null   float64\n",
      " 60  GarageFinish                 1360 non-null   object \n",
      " 61  GarageCars                   1441 non-null   int64  \n",
      " 62  GarageArea                   1441 non-null   int64  \n",
      " 63  GarageQual                   1360 non-null   object \n",
      " 64  GarageCond                   1360 non-null   object \n",
      " 65  PavedDrive                   1441 non-null   object \n",
      " 66  WoodDeckSF                   1441 non-null   int64  \n",
      " 67  OpenPorchSF                  1441 non-null   int64  \n",
      " 68  EnclosedPorch                1441 non-null   int64  \n",
      " 69  3SsnPorch                    1441 non-null   int64  \n",
      " 70  ScreenPorch                  1441 non-null   int64  \n",
      " 71  PoolArea                     1441 non-null   int64  \n",
      " 72  PoolQC                       5 non-null      object \n",
      " 73  Fence                        280 non-null    object \n",
      " 74  MiscFeature                  51 non-null     object \n",
      " 75  MiscVal                      1441 non-null   int64  \n",
      " 76  MoSold                       1441 non-null   int64  \n",
      " 77  YrSold                       1441 non-null   int64  \n",
      " 78  SaleType                     1441 non-null   object \n",
      " 79  SaleCondition                1441 non-null   object \n",
      " 80  SalePrice                    1441 non-null   int64  \n",
      " 81  LogSalePrice                 1441 non-null   float64\n",
      " 82  House_age                    1441 non-null   int64  \n",
      " 83  Remod_age                    1441 non-null   int64  \n",
      " 84  BsmtFin                      1441 non-null   int64  \n",
      " 85  FlrSF                        1441 non-null   int64  \n",
      " 86  Bath                         1441 non-null   float64\n",
      " 87  AbvGrd                       1441 non-null   int64  \n",
      " 88  Garage_age                   1441 non-null   float64\n",
      " 89  OpenSF                       1441 non-null   int64  \n",
      " 90  bedroom/totalRoomAboveGrade  1441 non-null   float64\n",
      "dtypes: float64(7), int64(41), object(43)\n",
      "memory usage: 1.0+ MB\n"
     ]
    }
   ],
   "source": [
    "df_train.info()"
   ]
  },
  {
   "cell_type": "code",
   "execution_count": 127,
   "metadata": {},
   "outputs": [],
   "source": [
    "# df_train,df_test = cap_outlers_numeric(df_train,df_test,'OverallCond',0.01,1) \n",
    "# df_train,df_test = cap_outlers_numeric(df_train,df_test,'TotRmsAbvGrd',0,0.99) \n",
    "# df_train,df_test = cap_outlers_numeric(df_train,df_test,'Fireplaces',0,0.99) \n",
    "# df_train,df_test = cap_outlers_numeric(df_train,df_test,'GarageCars',0,0.99) \n",
    "# df_train,df_test = cap_outlers_numeric(df_train,df_test,'Bath',0,0.99) \n",
    "# df_train,df_test = cap_outlers_numeric(df_train,df_test,'AbvGrd',0,0.99) "
   ]
  },
  {
   "cell_type": "code",
   "execution_count": 128,
   "metadata": {},
   "outputs": [
    {
     "name": "stdout",
     "output_type": "stream",
     "text": [
      "<class 'pandas.core.frame.DataFrame'>\n",
      "Index: 1441 entries, 0 to 1459\n",
      "Data columns (total 91 columns):\n",
      " #   Column                       Non-Null Count  Dtype  \n",
      "---  ------                       --------------  -----  \n",
      " 0   Id                           1441 non-null   int64  \n",
      " 1   MSSubClass                   1441 non-null   int64  \n",
      " 2   MSZoning                     1441 non-null   object \n",
      " 3   LotFrontage                  1187 non-null   float64\n",
      " 4   LotArea                      1441 non-null   int64  \n",
      " 5   Street                       1441 non-null   object \n",
      " 6   Alley                        90 non-null     object \n",
      " 7   LotShape                     1441 non-null   object \n",
      " 8   LandContour                  1441 non-null   object \n",
      " 9   Utilities                    1441 non-null   object \n",
      " 10  LotConfig                    1441 non-null   object \n",
      " 11  LandSlope                    1441 non-null   object \n",
      " 12  Neighborhood                 1441 non-null   object \n",
      " 13  Condition1                   1441 non-null   object \n",
      " 14  Condition2                   1441 non-null   object \n",
      " 15  BldgType                     1441 non-null   object \n",
      " 16  HouseStyle                   1441 non-null   object \n",
      " 17  OverallQual                  1441 non-null   int64  \n",
      " 18  OverallCond                  1441 non-null   int64  \n",
      " 19  YearBuilt                    1441 non-null   int64  \n",
      " 20  YearRemodAdd                 1441 non-null   int64  \n",
      " 21  RoofStyle                    1441 non-null   object \n",
      " 22  RoofMatl                     1441 non-null   object \n",
      " 23  Exterior1st                  1441 non-null   object \n",
      " 24  Exterior2nd                  1441 non-null   object \n",
      " 25  MasVnrType                   575 non-null    object \n",
      " 26  MasVnrArea                   1433 non-null   float64\n",
      " 27  ExterQual                    1441 non-null   object \n",
      " 28  ExterCond                    1441 non-null   object \n",
      " 29  Foundation                   1441 non-null   object \n",
      " 30  BsmtQual                     1404 non-null   object \n",
      " 31  BsmtCond                     1404 non-null   object \n",
      " 32  BsmtExposure                 1404 non-null   object \n",
      " 33  BsmtFinType1                 1404 non-null   object \n",
      " 34  BsmtFinSF1                   1441 non-null   int64  \n",
      " 35  BsmtFinType2                 1404 non-null   object \n",
      " 36  BsmtFinSF2                   1441 non-null   int64  \n",
      " 37  BsmtUnfSF                    1441 non-null   int64  \n",
      " 38  TotalBsmtSF                  1441 non-null   int64  \n",
      " 39  Heating                      1441 non-null   object \n",
      " 40  HeatingQC                    1441 non-null   object \n",
      " 41  CentralAir                   1441 non-null   object \n",
      " 42  Electrical                   1441 non-null   object \n",
      " 43  1stFlrSF                     1441 non-null   int64  \n",
      " 44  2ndFlrSF                     1441 non-null   int64  \n",
      " 45  LowQualFinSF                 1441 non-null   int64  \n",
      " 46  GrLivArea                    1441 non-null   int64  \n",
      " 47  BsmtFullBath                 1441 non-null   int64  \n",
      " 48  BsmtHalfBath                 1441 non-null   int64  \n",
      " 49  FullBath                     1441 non-null   int64  \n",
      " 50  HalfBath                     1441 non-null   int64  \n",
      " 51  BedroomAbvGr                 1441 non-null   int64  \n",
      " 52  KitchenAbvGr                 1441 non-null   int64  \n",
      " 53  KitchenQual                  1441 non-null   object \n",
      " 54  TotRmsAbvGrd                 1441 non-null   int64  \n",
      " 55  Functional                   1441 non-null   object \n",
      " 56  Fireplaces                   1441 non-null   int64  \n",
      " 57  FireplaceQu                  752 non-null    object \n",
      " 58  GarageType                   1360 non-null   object \n",
      " 59  GarageYrBlt                  1441 non-null   float64\n",
      " 60  GarageFinish                 1360 non-null   object \n",
      " 61  GarageCars                   1441 non-null   int64  \n",
      " 62  GarageArea                   1441 non-null   int64  \n",
      " 63  GarageQual                   1360 non-null   object \n",
      " 64  GarageCond                   1360 non-null   object \n",
      " 65  PavedDrive                   1441 non-null   object \n",
      " 66  WoodDeckSF                   1441 non-null   int64  \n",
      " 67  OpenPorchSF                  1441 non-null   int64  \n",
      " 68  EnclosedPorch                1441 non-null   int64  \n",
      " 69  3SsnPorch                    1441 non-null   int64  \n",
      " 70  ScreenPorch                  1441 non-null   int64  \n",
      " 71  PoolArea                     1441 non-null   int64  \n",
      " 72  PoolQC                       5 non-null      object \n",
      " 73  Fence                        280 non-null    object \n",
      " 74  MiscFeature                  51 non-null     object \n",
      " 75  MiscVal                      1441 non-null   int64  \n",
      " 76  MoSold                       1441 non-null   int64  \n",
      " 77  YrSold                       1441 non-null   int64  \n",
      " 78  SaleType                     1441 non-null   object \n",
      " 79  SaleCondition                1441 non-null   object \n",
      " 80  SalePrice                    1441 non-null   int64  \n",
      " 81  LogSalePrice                 1441 non-null   float64\n",
      " 82  House_age                    1441 non-null   int64  \n",
      " 83  Remod_age                    1441 non-null   int64  \n",
      " 84  BsmtFin                      1441 non-null   int64  \n",
      " 85  FlrSF                        1441 non-null   int64  \n",
      " 86  Bath                         1441 non-null   float64\n",
      " 87  AbvGrd                       1441 non-null   int64  \n",
      " 88  Garage_age                   1441 non-null   float64\n",
      " 89  OpenSF                       1441 non-null   int64  \n",
      " 90  bedroom/totalRoomAboveGrade  1441 non-null   float64\n",
      "dtypes: float64(7), int64(41), object(43)\n",
      "memory usage: 1.0+ MB\n"
     ]
    }
   ],
   "source": [
    "df_train.info()"
   ]
  },
  {
   "cell_type": "code",
   "execution_count": 129,
   "metadata": {},
   "outputs": [],
   "source": [
    "# # MSSubClass acts like categorical\n",
    "# df_train = df_train.drop(columns='AbvGrd')\n",
    "# df_test = df_test.drop(columns='AbvGrd')"
   ]
  },
  {
   "cell_type": "code",
   "execution_count": 130,
   "metadata": {},
   "outputs": [
    {
     "name": "stdout",
     "output_type": "stream",
     "text": [
      "<class 'pandas.core.frame.DataFrame'>\n",
      "Index: 1441 entries, 0 to 1459\n",
      "Data columns (total 91 columns):\n",
      " #   Column                       Non-Null Count  Dtype  \n",
      "---  ------                       --------------  -----  \n",
      " 0   Id                           1441 non-null   int64  \n",
      " 1   MSSubClass                   1441 non-null   int64  \n",
      " 2   MSZoning                     1441 non-null   object \n",
      " 3   LotFrontage                  1187 non-null   float64\n",
      " 4   LotArea                      1441 non-null   int64  \n",
      " 5   Street                       1441 non-null   object \n",
      " 6   Alley                        90 non-null     object \n",
      " 7   LotShape                     1441 non-null   object \n",
      " 8   LandContour                  1441 non-null   object \n",
      " 9   Utilities                    1441 non-null   object \n",
      " 10  LotConfig                    1441 non-null   object \n",
      " 11  LandSlope                    1441 non-null   object \n",
      " 12  Neighborhood                 1441 non-null   object \n",
      " 13  Condition1                   1441 non-null   object \n",
      " 14  Condition2                   1441 non-null   object \n",
      " 15  BldgType                     1441 non-null   object \n",
      " 16  HouseStyle                   1441 non-null   object \n",
      " 17  OverallQual                  1441 non-null   int64  \n",
      " 18  OverallCond                  1441 non-null   int64  \n",
      " 19  YearBuilt                    1441 non-null   int64  \n",
      " 20  YearRemodAdd                 1441 non-null   int64  \n",
      " 21  RoofStyle                    1441 non-null   object \n",
      " 22  RoofMatl                     1441 non-null   object \n",
      " 23  Exterior1st                  1441 non-null   object \n",
      " 24  Exterior2nd                  1441 non-null   object \n",
      " 25  MasVnrType                   575 non-null    object \n",
      " 26  MasVnrArea                   1433 non-null   float64\n",
      " 27  ExterQual                    1441 non-null   object \n",
      " 28  ExterCond                    1441 non-null   object \n",
      " 29  Foundation                   1441 non-null   object \n",
      " 30  BsmtQual                     1404 non-null   object \n",
      " 31  BsmtCond                     1404 non-null   object \n",
      " 32  BsmtExposure                 1404 non-null   object \n",
      " 33  BsmtFinType1                 1404 non-null   object \n",
      " 34  BsmtFinSF1                   1441 non-null   int64  \n",
      " 35  BsmtFinType2                 1404 non-null   object \n",
      " 36  BsmtFinSF2                   1441 non-null   int64  \n",
      " 37  BsmtUnfSF                    1441 non-null   int64  \n",
      " 38  TotalBsmtSF                  1441 non-null   int64  \n",
      " 39  Heating                      1441 non-null   object \n",
      " 40  HeatingQC                    1441 non-null   object \n",
      " 41  CentralAir                   1441 non-null   object \n",
      " 42  Electrical                   1441 non-null   object \n",
      " 43  1stFlrSF                     1441 non-null   int64  \n",
      " 44  2ndFlrSF                     1441 non-null   int64  \n",
      " 45  LowQualFinSF                 1441 non-null   int64  \n",
      " 46  GrLivArea                    1441 non-null   int64  \n",
      " 47  BsmtFullBath                 1441 non-null   int64  \n",
      " 48  BsmtHalfBath                 1441 non-null   int64  \n",
      " 49  FullBath                     1441 non-null   int64  \n",
      " 50  HalfBath                     1441 non-null   int64  \n",
      " 51  BedroomAbvGr                 1441 non-null   int64  \n",
      " 52  KitchenAbvGr                 1441 non-null   int64  \n",
      " 53  KitchenQual                  1441 non-null   object \n",
      " 54  TotRmsAbvGrd                 1441 non-null   int64  \n",
      " 55  Functional                   1441 non-null   object \n",
      " 56  Fireplaces                   1441 non-null   int64  \n",
      " 57  FireplaceQu                  752 non-null    object \n",
      " 58  GarageType                   1360 non-null   object \n",
      " 59  GarageYrBlt                  1441 non-null   float64\n",
      " 60  GarageFinish                 1360 non-null   object \n",
      " 61  GarageCars                   1441 non-null   int64  \n",
      " 62  GarageArea                   1441 non-null   int64  \n",
      " 63  GarageQual                   1360 non-null   object \n",
      " 64  GarageCond                   1360 non-null   object \n",
      " 65  PavedDrive                   1441 non-null   object \n",
      " 66  WoodDeckSF                   1441 non-null   int64  \n",
      " 67  OpenPorchSF                  1441 non-null   int64  \n",
      " 68  EnclosedPorch                1441 non-null   int64  \n",
      " 69  3SsnPorch                    1441 non-null   int64  \n",
      " 70  ScreenPorch                  1441 non-null   int64  \n",
      " 71  PoolArea                     1441 non-null   int64  \n",
      " 72  PoolQC                       5 non-null      object \n",
      " 73  Fence                        280 non-null    object \n",
      " 74  MiscFeature                  51 non-null     object \n",
      " 75  MiscVal                      1441 non-null   int64  \n",
      " 76  MoSold                       1441 non-null   int64  \n",
      " 77  YrSold                       1441 non-null   int64  \n",
      " 78  SaleType                     1441 non-null   object \n",
      " 79  SaleCondition                1441 non-null   object \n",
      " 80  SalePrice                    1441 non-null   int64  \n",
      " 81  LogSalePrice                 1441 non-null   float64\n",
      " 82  House_age                    1441 non-null   int64  \n",
      " 83  Remod_age                    1441 non-null   int64  \n",
      " 84  BsmtFin                      1441 non-null   int64  \n",
      " 85  FlrSF                        1441 non-null   int64  \n",
      " 86  Bath                         1441 non-null   float64\n",
      " 87  AbvGrd                       1441 non-null   int64  \n",
      " 88  Garage_age                   1441 non-null   float64\n",
      " 89  OpenSF                       1441 non-null   int64  \n",
      " 90  bedroom/totalRoomAboveGrade  1441 non-null   float64\n",
      "dtypes: float64(7), int64(41), object(43)\n",
      "memory usage: 1.0+ MB\n"
     ]
    }
   ],
   "source": [
    "df_train.info()"
   ]
  },
  {
   "cell_type": "code",
   "execution_count": 131,
   "metadata": {},
   "outputs": [],
   "source": [
    "numeric_ordinal_final = ['OverallQual', 'OverallCond', 'TotRmsAbvGrd', 'Fireplaces', 'GarageCars', 'SalePrice', 'Bath']"
   ]
  },
  {
   "cell_type": "code",
   "execution_count": 132,
   "metadata": {},
   "outputs": [],
   "source": [
    "# #check correlation again\n",
    "# numeric  = df_train.select_dtypes(exclude = object).columns\n",
    "# numeric_normal = [i for i in numeric if i not in numeric_odrinal]\n",
    "# corr = df_train[numeric_normal].corr()\n",
    "# plt.figure(figsize=(25,25))\n",
    "# sns.heatmap(corr,cmap = 'coolwarm', annot = True, fmt='.2f')"
   ]
  },
  {
   "cell_type": "code",
   "execution_count": 133,
   "metadata": {},
   "outputs": [],
   "source": [
    "\n",
    "#ordinal features\n",
    "cat_ordinal = ['LotShape','LandSlope','HouseStyle','ExterQual' , 'ExterCond' , 'BsmtQual' ,'BsmtCond', 'BsmtExposure','BsmtFinType1',\n",
    "               'BsmtFinType2','HeatingQC' ,'KitchenQual','Functional','FireplaceQu','GarageFinish','GarageQual' ,'GarageCond'] \n",
    "\n",
    "cat_one_hot = [i for i in df_train.select_dtypes(include= 'object').columns if i not in cat_ordinal]\n"
   ]
  },
  {
   "cell_type": "markdown",
   "metadata": {},
   "source": [
    "For ordinal and categorical features. I wil look at box plot to get the idea of feature importances."
   ]
  },
  {
   "cell_type": "code",
   "execution_count": 134,
   "metadata": {},
   "outputs": [],
   "source": [
    "#for cat ordinal features (sometimes correlation score cannot tell feature importances for this kind of feature)\n",
    "\n",
    "# # Number of rows and columns for subplots\n",
    "# n_rows = 7\n",
    "# n_cols = 3\n",
    "\n",
    "\n",
    "# # Create subplots\n",
    "# fig, axes = plt.subplots(n_rows, n_cols, figsize=(15, 20))  \n",
    "\n",
    "# # Flatten the axes array for easy iteration\n",
    "# axes = axes.flatten()\n",
    "\n",
    "# for col, ax in enumerate(axes):\n",
    "#     if col < len(cat_ordinal):\n",
    "#         col_name = cat_ordinal[col]\n",
    "#         sns.boxplot(x=col_name, y='LogSalePrice', data=df_train, ax=ax)\n",
    "#         ax.set_title(f'Boxplot of {col_name} vs LogSalePrice')\n",
    "#     else:\n",
    "#         ax.axis('off')  # Hide unused subplots\n",
    "\n",
    "\n",
    "# plt.tight_layout()\n"
   ]
  },
  {
   "cell_type": "code",
   "execution_count": 135,
   "metadata": {},
   "outputs": [
    {
     "name": "stdout",
     "output_type": "stream",
     "text": [
      "LotShape\n",
      "IR3    0.005552\n",
      "Name: proportion, dtype: float64\n",
      "LandSlope\n",
      "Sev    0.006246\n",
      "Name: proportion, dtype: float64\n",
      "HouseStyle\n",
      "1.5Unf    0.009715\n",
      "2.5Unf    0.007634\n",
      "2.5Fin    0.005552\n",
      "Name: proportion, dtype: float64\n",
      "ExterQual\n",
      "Fa    0.009022\n",
      "Name: proportion, dtype: float64\n",
      "ExterCond\n",
      "Ex    0.002082\n",
      "Po    0.000694\n",
      "Name: proportion, dtype: float64\n",
      "Series([], Name: proportion, dtype: float64)\n",
      "BsmtCond\n",
      "Po    0.001425\n",
      "Name: proportion, dtype: float64\n",
      "Series([], Name: proportion, dtype: float64)\n",
      "Series([], Name: proportion, dtype: float64)\n",
      "BsmtFinType2\n",
      "GLQ    0.009972\n",
      "Name: proportion, dtype: float64\n",
      "HeatingQC\n",
      "Po    0.000694\n",
      "Name: proportion, dtype: float64\n",
      "Series([], Name: proportion, dtype: float64)\n",
      "Functional\n",
      "Maj1    0.009715\n",
      "Maj2    0.003470\n",
      "Sev     0.000694\n",
      "Name: proportion, dtype: float64\n",
      "Series([], Name: proportion, dtype: float64)\n",
      "Series([], Name: proportion, dtype: float64)\n",
      "GarageQual\n",
      "Ex    0.002206\n",
      "Po    0.002206\n",
      "Name: proportion, dtype: float64\n",
      "GarageCond\n",
      "Gd    0.006618\n",
      "Po    0.005147\n",
      "Ex    0.001471\n",
      "Name: proportion, dtype: float64\n"
     ]
    }
   ],
   "source": [
    "# Which categries are rare? (less than 10 percent)\n",
    "for col in cat_ordinal:\n",
    "    value_counts = df_train[col].value_counts(normalize=True)\n",
    "    print(value_counts[value_counts<0.01])"
   ]
  },
  {
   "cell_type": "markdown",
   "metadata": {},
   "source": [
    "Box plots show 'AbvGrd' feature has no effect."
   ]
  },
  {
   "cell_type": "code",
   "execution_count": 136,
   "metadata": {},
   "outputs": [],
   "source": [
    "# df_train.drop(columns = ['AbvGrd'],inplace = True)\n",
    "# df_test.drop(columns = ['AbvGrd'],inplace = True)"
   ]
  },
  {
   "cell_type": "markdown",
   "metadata": {},
   "source": [
    "Explore ordinal features"
   ]
  },
  {
   "cell_type": "code",
   "execution_count": 137,
   "metadata": {},
   "outputs": [],
   "source": [
    "# #boxplots for ordinal features\n",
    "# n_rows = 4\n",
    "# n_cols = 5\n",
    "\n",
    "# # Create subplots\n",
    "# fig, axes = plt.subplots(n_rows, n_cols, figsize=(15, 20))  # Adjusted figsize for better readability\n",
    "\n",
    "# # Flatten the axes array for easy iteration\n",
    "# axes = axes.flatten()\n",
    "\n",
    "# # Plot boxplots for each numeric ordinal feature\n",
    "# for col, ax in enumerate(axes):\n",
    "#     if col < len(cat_ordinal):\n",
    "#         col_name = cat_ordinal[col]\n",
    "#         sns.boxplot(x=col_name, y='LogSalePrice', data=df_train, ax=ax)\n",
    "#         ax.set_title(f'Boxplot of {col_name} vs LogSalePrice')\n",
    "#     else:\n",
    "#         ax.axis('off')  # Hide unused subplots\n",
    "\n",
    "# # Adjust layout and display the plot\n",
    "# plt.tight_layout()\n",
    "# plt.show()"
   ]
  },
  {
   "cell_type": "code",
   "execution_count": 138,
   "metadata": {},
   "outputs": [
    {
     "name": "stdout",
     "output_type": "stream",
     "text": [
      "LotShape\n",
      "IR3    0.005552\n",
      "Name: proportion, dtype: float64\n",
      "LandSlope\n",
      "Sev    0.006246\n",
      "Name: proportion, dtype: float64\n",
      "HouseStyle\n",
      "1.5Unf    0.009715\n",
      "2.5Unf    0.007634\n",
      "2.5Fin    0.005552\n",
      "Name: proportion, dtype: float64\n",
      "ExterQual\n",
      "Fa    0.009022\n",
      "Name: proportion, dtype: float64\n",
      "ExterCond\n",
      "Fa    0.019431\n",
      "Ex    0.002082\n",
      "Po    0.000694\n",
      "Name: proportion, dtype: float64\n",
      "Series([], Name: proportion, dtype: float64)\n",
      "BsmtCond\n",
      "Po    0.001425\n",
      "Name: proportion, dtype: float64\n",
      "Series([], Name: proportion, dtype: float64)\n",
      "Series([], Name: proportion, dtype: float64)\n",
      "BsmtFinType2\n",
      "ALQ    0.012821\n",
      "GLQ    0.009972\n",
      "Name: proportion, dtype: float64\n",
      "HeatingQC\n",
      "Po    0.000694\n",
      "Name: proportion, dtype: float64\n",
      "Series([], Name: proportion, dtype: float64)\n",
      "Functional\n",
      "Mod     0.010409\n",
      "Maj1    0.009715\n",
      "Maj2    0.003470\n",
      "Sev     0.000694\n",
      "Name: proportion, dtype: float64\n",
      "Series([], Name: proportion, dtype: float64)\n",
      "Series([], Name: proportion, dtype: float64)\n",
      "GarageQual\n",
      "Gd    0.010294\n",
      "Ex    0.002206\n",
      "Po    0.002206\n",
      "Name: proportion, dtype: float64\n",
      "GarageCond\n",
      "Gd    0.006618\n",
      "Po    0.005147\n",
      "Ex    0.001471\n",
      "Name: proportion, dtype: float64\n"
     ]
    }
   ],
   "source": [
    "# Which categries are rare? (less than 10 percent)\n",
    "for col in cat_ordinal:\n",
    "    value_counts = df_train[col].value_counts(normalize=True)\n",
    "    print(value_counts[value_counts<0.02])"
   ]
  },
  {
   "cell_type": "code",
   "execution_count": 139,
   "metadata": {},
   "outputs": [],
   "source": [
    "# ## Run this cell until there is no rare categories left for all ordinal features\n",
    "# # Define the order of categories for ordinal features\n",
    "# ordinal_order = {\n",
    "#     'ExterQual': ['Po', 'Fa', 'TA', 'Gd', 'Ex'],\n",
    "#     'ExterCond': ['Po', 'Fa', 'TA', 'Gd', 'Ex'],\n",
    "#     'BsmtQual': ['NA', 'Po', 'Fa', 'TA', 'Gd', 'Ex'],\n",
    "#     'HeatingQC': ['Po', 'Fa', 'TA', 'Gd', 'Ex'],\n",
    "#     'KitchenQual': ['Po', 'Fa', 'TA', 'Gd', 'Ex'],\n",
    "#     'GarageQual': ['NA', 'Po', 'Fa', 'TA', 'Gd', 'Ex'],\n",
    "#     'GarageCond': ['NA', 'Po', 'Fa', 'TA', 'Gd', 'Ex'],\n",
    "#     'BsmtExposure': ['NA', 'No', 'Mn', 'Av', 'Gd'],\n",
    "#     'BsmtFinType1': ['NA', 'Unf', 'LwQ', 'Rec', 'BLQ', 'ALQ', 'GLQ'],\n",
    "#     'BsmtFinType2': ['NA', 'Unf', 'LwQ', 'Rec', 'BLQ', 'ALQ', 'GLQ'],\n",
    "#     'GarageFinish': ['NA', 'Unf', 'RFn', 'Fin'],\n",
    "#     'LotShape': ['Reg', 'IR1', 'IR2', 'IR3'],  # Regular → Irregular\n",
    "#     'LandSlope': ['Gtl', 'Mod', 'Sev'],        # Gentle → Severe\n",
    "#     'HouseStyle': ['1Story', '1.5Fin', '1.5Unf', '2Story', '2.5Fin', '2.5Unf', 'SFoyer', 'SLvl'],  # Least stories → Most stories\n",
    "#     'BsmtCond': ['NA', 'Po', 'Fa', 'TA', 'Gd', 'Ex'],\n",
    "#     'Functional': ['Sal', 'Sev', 'Maj2', 'Maj1', 'Mod', 'Min2', 'Min1', 'Typ'],  # Salvage → Typical\n",
    "#     'FireplaceQu': ['NA', 'Po', 'Fa', 'TA', 'Gd', 'Ex']  # No Fireplace → Excellent\n",
    "# }\n",
    "\n",
    "# #threshold for rare categories \n",
    "# threshold = 0.01\n",
    "\n",
    "# # Function to replace rare categories with the nearest adjacent category\n",
    "# def replace_rare_with_adjacent(category, rare_categories, ordered_categories):\n",
    "#     if category in rare_categories:\n",
    "#         index = ordered_categories.index(category)\n",
    "#         # Replace with the previous category if available, otherwise the next category\n",
    "#         if index == len(ordered_categories)//2:\n",
    "#             return category\n",
    "#         elif index > len(ordered_categories)//2:\n",
    "#             return ordered_categories[index - 1]\n",
    "#         else:\n",
    "#             return ordered_categories[index + 1]\n",
    "#     return category\n",
    "\n",
    "#     # Loop through each ordinal feature\n",
    "# for col, order in ordinal_order.items():\n",
    "#      # Calculate the frequency of each category\n",
    "#     value_counts = df_train[col].value_counts(normalize=True)\n",
    "    \n",
    "#     # Identify rare categories\n",
    "#     rare_categories = value_counts[value_counts < threshold].index\n",
    "    \n",
    "#     # Replace rare categories with the nearest adjacent category\n",
    "#     df_train[col] = df_train[col].apply(\n",
    "#         lambda x: replace_rare_with_adjacent(x, rare_categories, order)\n",
    "#     )\n",
    "#     df_test[col] = df_test[col].apply(\n",
    "#         lambda x: replace_rare_with_adjacent(x, rare_categories, order)\n",
    "#     )\n",
    "# for col in cat_ordinal:\n",
    "#     value_counts = df_train[col].value_counts(normalize=True)\n",
    "#     print(value_counts[value_counts<0.01])   "
   ]
  },
  {
   "cell_type": "code",
   "execution_count": 140,
   "metadata": {},
   "outputs": [],
   "source": [
    "# # For lot shape the middle buffer feature is rare. So i will move it to IR1 manually\n",
    "\n",
    "# df_train['LotShape'].replace('IR2','IR1',inplace=True)\n",
    "# df_test['LotShape'].replace('IR2','IR1',inplace=True)"
   ]
  },
  {
   "cell_type": "markdown",
   "metadata": {},
   "source": [
    "Visualize ordinal features after handling rare categories."
   ]
  },
  {
   "cell_type": "code",
   "execution_count": 141,
   "metadata": {},
   "outputs": [],
   "source": [
    "\n",
    "# #boxplots for ordinal features\n",
    "# n_rows = 4\n",
    "# n_cols = 5\n",
    "\n",
    "# # Create subplots\n",
    "# fig, axes = plt.subplots(n_rows, n_cols, figsize=(15, 20))  # Adjusted figsize for better readability\n",
    "\n",
    "# # Flatten the axes array for easy iteration\n",
    "# axes = axes.flatten()\n",
    "\n",
    "# # Plot boxplots for each numeric ordinal feature\n",
    "# for col, ax in enumerate(axes):\n",
    "#     if col < len(cat_ordinal):\n",
    "#         col_name = cat_ordinal[col]\n",
    "#         sns.boxplot(x=col_name, y='LogSalePrice', data=df_train, ax=ax)\n",
    "#         ax.set_title(f'Boxplot of {col_name} vs LogSalePrice')\n",
    "#     else:\n",
    "#         ax.axis('off')  # Hide unused subplots\n",
    "\n",
    "# # Adjust layout and display the plot\n",
    "# plt.tight_layout()\n",
    "# plt.show()"
   ]
  },
  {
   "cell_type": "code",
   "execution_count": 142,
   "metadata": {},
   "outputs": [],
   "source": [
    "# # drop features that do not have effects on the response\n",
    "# df_train.drop(columns=['LandSlope','Functional'],inplace = True)\n",
    "\n",
    "# df_test.drop(columns=['LandSlope','Functional'],inplace = True)\n",
    "\n",
    "# ['HouseStyle','BsmtCond','BsmtFinType1','BsmtFinType2','ExterCond']\n"
   ]
  },
  {
   "cell_type": "markdown",
   "metadata": {},
   "source": [
    "Categorical Features"
   ]
  },
  {
   "cell_type": "code",
   "execution_count": 143,
   "metadata": {},
   "outputs": [],
   "source": [
    "\n",
    "# #boxplots for categorical features\n",
    "# n_rows = 5\n",
    "# n_cols = 5\n",
    "\n",
    "# # Create subplots\n",
    "# fig, axes = plt.subplots(n_rows, n_cols, figsize=(15, 20))  # Adjusted figsize for better readability\n",
    "\n",
    "# # Flatten the axes array for easy iteration\n",
    "# axes = axes.flatten()\n",
    "\n",
    "# # Plot boxplots for each numeric ordinal feature\n",
    "# for col, ax in enumerate(axes):\n",
    "#     if col < len(cat_one_hot):\n",
    "#         col_name = cat_one_hot[col]\n",
    "#         sns.boxplot(x=col_name, y='LogSalePrice', data=df_train, ax=ax)\n",
    "#         ax.set_title(f'Boxplot of {col_name} vs LogSalePrice')\n",
    "#     else:\n",
    "#         ax.axis('off')  # Hide unused subplots\n",
    "\n",
    "# # Adjust layout and display the plot\n",
    "# plt.tight_layout()\n",
    "# plt.show()"
   ]
  },
  {
   "cell_type": "markdown",
   "metadata": {},
   "source": [
    "Capping rare categories as other."
   ]
  },
  {
   "cell_type": "code",
   "execution_count": 144,
   "metadata": {},
   "outputs": [],
   "source": [
    "\n",
    "# cat_frequency = ['MSZoning', 'Street', 'LandContour', 'Utilities', 'LotConfig', 'Neighborhood', 'Condition1', 'Condition2', 'BldgType', \n",
    "#                  'RoofStyle', 'RoofMatl', 'Exterior1st', 'Exterior2nd', 'MasVnrType', 'Foundation', 'Heating', 'CentralAir', 'Electrical',\n",
    "#                  'GarageType', 'PavedDrive', 'SaleType', 'SaleCondition']\n",
    "# #threshold for rare categories \n",
    "# threshold = 0.01\n",
    "\n",
    "#     # Loop through each ordinal feature\n",
    "# for col in cat_frequency:\n",
    "#      # Calculate the frequency of each category\n",
    "#     value_counts = df_train[col].value_counts(normalize=True)\n",
    "    \n",
    "#     # Identify rare categories\n",
    "#     rare_categories = value_counts[value_counts < threshold].index\n",
    "    \n",
    "#     # Capped rare categories as other\n",
    "#     df_train[col] = df_train[col].replace(rare_categories,'Other')   \n",
    "    \n",
    "#     df_test[col] = df_test[col].replace(rare_categories,'Other') "
   ]
  },
  {
   "cell_type": "code",
   "execution_count": 145,
   "metadata": {},
   "outputs": [],
   "source": [
    "# #boxplots for categorical features\n",
    "# n_rows = 5\n",
    "# n_cols = 5\n",
    "\n",
    "# # Create subplots\n",
    "# fig, axes = plt.subplots(n_rows, n_cols, figsize=(15, 20))  # Adjusted figsize for better readability\n",
    "\n",
    "# # Flatten the axes array for easy iteration\n",
    "# axes = axes.flatten()\n",
    "\n",
    "# # Plot boxplots for each numeric ordinal feature\n",
    "# for col, ax in enumerate(axes):\n",
    "#     if col < len(cat_one_hot):\n",
    "#         col_name = cat_one_hot[col]\n",
    "#         sns.boxplot(x=col_name, y='LogSalePrice', data=df_train, ax=ax)\n",
    "#         ax.set_title(f'Boxplot of {col_name} vs LogSalePrice')\n",
    "#     else:\n",
    "#         ax.axis('off')  # Hide unused subplots\n",
    "\n",
    "# # Adjust layout and display the plot\n",
    "# plt.tight_layout()\n",
    "# plt.show()"
   ]
  },
  {
   "cell_type": "code",
   "execution_count": 146,
   "metadata": {},
   "outputs": [],
   "source": [
    "# # drop features that do not have effects on the response\n",
    "# df_train.drop(columns=['Utilities'],inplace = True)\n",
    "\n",
    "# df_test.drop(columns=['Utilities'],inplace = True)\n",
    "\n",
    "# ['LandContour','Condition1','Condition2','RoofStyle']"
   ]
  },
  {
   "cell_type": "markdown",
   "metadata": {},
   "source": [
    "There are a lot of categories for \"Neighbourhood feature\". So i will use frequncy encoding. For other features one hot encoding will be used."
   ]
  },
  {
   "cell_type": "code",
   "execution_count": 147,
   "metadata": {},
   "outputs": [],
   "source": [
    "# cat_frequency = ['MSZoning', 'Street', 'LotConfig', 'Neighborhood', 'BldgType', 'RoofMatl', 'Exterior1st', 'Exterior2nd', 'MasVnrType',\n",
    "#                'Foundation', 'Heating', 'CentralAir', 'Electrical', 'GarageType', 'PavedDrive', 'SaleType', 'SaleCondition']  + ['LandContour','Condition1','Condition2','RoofStyle']+['MSSubClass']\n",
    "# for i in cat_frequency:\n",
    "#     frequency_map = df_train[i].value_counts(normalize=True) # use this frequency encoding only for tree based models\n",
    "\n",
    "\n",
    "#     df_train[i] = df_train[i].map(frequency_map)\n",
    "\n",
    "#     df_test[i] = df_test[i].map(frequency_map)\n",
    "    \n"
   ]
  },
  {
   "cell_type": "code",
   "execution_count": 148,
   "metadata": {},
   "outputs": [],
   "source": [
    "# df_test[df_test.select_dtypes(include = 'object').columns]=df_test[df_test.select_dtypes(include = 'object').columns].fillna('NA')\n",
    "# df_test[df_test.select_dtypes(exclude = 'object').columns]=df_test[df_test.select_dtypes(exclude = 'object').columns].fillna(0)\n"
   ]
  },
  {
   "cell_type": "code",
   "execution_count": 149,
   "metadata": {},
   "outputs": [],
   "source": [
    "# object_columns = ['MSZoning', 'Street', 'LotConfig', 'Neighborhood', 'BldgType', 'RoofMatl', 'Exterior1st', 'Exterior2nd', 'MasVnrType',\n",
    "#                'Foundation', 'Heating', 'CentralAir', 'Electrical', 'GarageType', 'PavedDrive', 'SaleType', 'SaleCondition']  + ['LandContour','Condition1','Condition2','RoofStyle']+['MSSubClass']\n",
    "# for col in object_columns:\n",
    "#     df_test[col] = df_test[col].apply(lambda x: 0 if not isnumeric() else x)"
   ]
  },
  {
   "cell_type": "markdown",
   "metadata": {},
   "source": [
    "For categorical features, Is there any category that are in the train set but not in the train set as it can mess up one hot encoding for categorical features."
   ]
  },
  {
   "cell_type": "code",
   "execution_count": 150,
   "metadata": {},
   "outputs": [],
   "source": [
    "# cat_one_hot_new = [i for i in cat_one_hot if i in df_train.columns] # as i drop umportant features, i need to gather new categorical columns"
   ]
  },
  {
   "cell_type": "code",
   "execution_count": 151,
   "metadata": {},
   "outputs": [],
   "source": [
    "# for col in cat_one_hot_new:\n",
    "#     unique_train = df_train[col].unique() # unique categories in train set\n",
    "#     unique_test = df_test[col].unique() # unique categories in test set\n",
    "    \n",
    "#     only_in_test_set = [i for i in unique_test if i not in unique_train ]\n",
    "#     print(col)\n",
    "#     print(only_in_test_set)   #if there is nothing in only_in_test_set, it is ok to go on."
   ]
  },
  {
   "cell_type": "markdown",
   "metadata": {},
   "source": [
    "## Save Cleaned Data"
   ]
  },
  {
   "cell_type": "code",
   "execution_count": 152,
   "metadata": {},
   "outputs": [],
   "source": [
    "\n",
    "#Save cleaned data for machine learning\n",
    "save_train = os.path.join('cleaned_data','cleaned_train.csv')\n",
    "df_train.to_csv(\n",
    "    save_train,          # File path\n",
    "    index=False,           # Exclude row indices          \n",
    "    header=True            # Include column names\n",
    ")\n",
    "save_test = os.path.join('cleaned_data','cleaned_test.csv')\n",
    "df_test.to_csv(\n",
    "    save_test,          # File path\n",
    "    index=False,           # Exclude row indices          \n",
    "    header=True            # Include column names\n",
    ")"
   ]
  },
  {
   "cell_type": "code",
   "execution_count": 76,
   "metadata": {},
   "outputs": [],
   "source": [
    "# path_test = os.path.join(\"cleaned_data\",\"cleaned_test.csv\")\n",
    "# df_test = pd.read_csv(path_test)\n",
    "# df_test = df_test.fillna('NA')"
   ]
  },
  {
   "cell_type": "code",
   "execution_count": 79,
   "metadata": {},
   "outputs": [
    {
     "name": "stdout",
     "output_type": "stream",
     "text": [
      "['Street', 'RoofMatl', 'MasVnrArea', 'Heating', 'FireplaceQu']\n"
     ]
    }
   ],
   "source": [
    "a = ['LotFrontage','LotArea','House_age','Remod_age','BsmtFin','BsmtUnfSF','TotalBsmtSF','FlrSF','GrLivArea','GarageArea','WoodDeckSF','OpenPorchSF','OpenSF','bedroom/totalRoomAboveGrade']\n",
    "b=['MSSubClass','OverallQual','OverallCond','Bath','AbvGrd','TotRmsAbvGrd','Fireplaces','GarageCars']\n",
    "\n",
    "c = ['ExterQual' , 'ExterCond' , 'BsmtQual' , 'HeatingQC' ,'KitchenQual', 'GarageQual' ,'GarageCond',\n",
    "               'BsmtExposure','BsmtFinType1' ,'BsmtFinType2','GarageFinish'] \n",
    "d = ['MSZoning','LotShape','LandContour','LotConfig','Neighborhood','Condition1','Condition2',\n",
    "               'BldgType','HouseStyle','RoofStyle','Exterior1st','Exterior2nd','MasVnrType','Foundation','BsmtCond',\n",
    "               'CentralAir','Electrical','Functional','GarageType','PavedDrive','SaleType','SaleCondition']\n",
    "\n",
    "e = [i for i in df_test.columns if i not in a+b+c+d]\n",
    "print(e)"
   ]
  },
  {
   "cell_type": "code",
   "execution_count": 80,
   "metadata": {},
   "outputs": [
    {
     "name": "stdout",
     "output_type": "stream",
     "text": [
      "['FlrSF', 'WoodDeckSF', 'OpenPorchSF', 'bedroom/totalRoomAboveGrade', 'AbvGrd', 'Functional']\n"
     ]
    }
   ],
   "source": [
    "f = [i for i in a+b+c+d  if i not in df_test.columns]\n",
    "print(f)"
   ]
  }
 ],
 "metadata": {
  "kernelspec": {
   "display_name": ".venv",
   "language": "python",
   "name": "python3"
  },
  "language_info": {
   "codemirror_mode": {
    "name": "ipython",
    "version": 3
   },
   "file_extension": ".py",
   "mimetype": "text/x-python",
   "name": "python",
   "nbconvert_exporter": "python",
   "pygments_lexer": "ipython3",
   "version": "3.13.2"
  }
 },
 "nbformat": 4,
 "nbformat_minor": 2
}
